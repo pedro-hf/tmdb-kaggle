{
 "cells": [
  {
   "cell_type": "markdown",
   "metadata": {},
   "source": [
    "# TMDB Box Office Prediction\n",
    "Can you predict a movie's worldwide box office revenue?\n",
    "![](img/cine.jpeg)"
   ]
  },
  {
   "cell_type": "code",
   "execution_count": 47,
   "metadata": {},
   "outputs": [
    {
     "name": "stderr",
     "output_type": "stream",
     "text": [
      "[nltk_data] Downloading package punkt to /Users/pedro/nltk_data...\n",
      "[nltk_data]   Package punkt is already up-to-date!\n"
     ]
    }
   ],
   "source": [
    "import pandas as pd\n",
    "import numpy as np\n",
    "import matplotlib.pyplot as plt\n",
    "from ast import literal_eval\n",
    "import requests\n",
    "import json\n",
    "\n",
    "import nltk\n",
    "nltk.download('punkt')\n",
    "from nltk.tokenize import word_tokenize\n"
   ]
  },
  {
   "cell_type": "code",
   "execution_count": 2,
   "metadata": {},
   "outputs": [
    {
     "data": {
      "text/html": [
       "<div>\n",
       "<style scoped>\n",
       "    .dataframe tbody tr th:only-of-type {\n",
       "        vertical-align: middle;\n",
       "    }\n",
       "\n",
       "    .dataframe tbody tr th {\n",
       "        vertical-align: top;\n",
       "    }\n",
       "\n",
       "    .dataframe thead th {\n",
       "        text-align: right;\n",
       "    }\n",
       "</style>\n",
       "<table border=\"1\" class=\"dataframe\">\n",
       "  <thead>\n",
       "    <tr style=\"text-align: right;\">\n",
       "      <th></th>\n",
       "      <th>id</th>\n",
       "      <th>belongs_to_collection</th>\n",
       "      <th>budget</th>\n",
       "      <th>genres</th>\n",
       "      <th>homepage</th>\n",
       "      <th>imdb_id</th>\n",
       "      <th>original_language</th>\n",
       "      <th>original_title</th>\n",
       "      <th>overview</th>\n",
       "      <th>popularity</th>\n",
       "      <th>...</th>\n",
       "      <th>release_date</th>\n",
       "      <th>runtime</th>\n",
       "      <th>spoken_languages</th>\n",
       "      <th>status</th>\n",
       "      <th>tagline</th>\n",
       "      <th>title</th>\n",
       "      <th>Keywords</th>\n",
       "      <th>cast</th>\n",
       "      <th>crew</th>\n",
       "      <th>revenue</th>\n",
       "    </tr>\n",
       "  </thead>\n",
       "  <tbody>\n",
       "    <tr>\n",
       "      <th>0</th>\n",
       "      <td>1</td>\n",
       "      <td>[{'id': 313576, 'name': 'Hot Tub Time Machine ...</td>\n",
       "      <td>14000000</td>\n",
       "      <td>[{'id': 35, 'name': 'Comedy'}]</td>\n",
       "      <td>NaN</td>\n",
       "      <td>tt2637294</td>\n",
       "      <td>en</td>\n",
       "      <td>Hot Tub Time Machine 2</td>\n",
       "      <td>When Lou, who has become the \"father of the In...</td>\n",
       "      <td>6.575393</td>\n",
       "      <td>...</td>\n",
       "      <td>2/20/15</td>\n",
       "      <td>93.0</td>\n",
       "      <td>[{'iso_639_1': 'en', 'name': 'English'}]</td>\n",
       "      <td>Released</td>\n",
       "      <td>The Laws of Space and Time are About to be Vio...</td>\n",
       "      <td>Hot Tub Time Machine 2</td>\n",
       "      <td>[{'id': 4379, 'name': 'time travel'}, {'id': 9...</td>\n",
       "      <td>[{'cast_id': 4, 'character': 'Lou', 'credit_id...</td>\n",
       "      <td>[{'credit_id': '59ac067c92514107af02c8c8', 'de...</td>\n",
       "      <td>12314651</td>\n",
       "    </tr>\n",
       "    <tr>\n",
       "      <th>1</th>\n",
       "      <td>2</td>\n",
       "      <td>[{'id': 107674, 'name': 'The Princess Diaries ...</td>\n",
       "      <td>40000000</td>\n",
       "      <td>[{'id': 35, 'name': 'Comedy'}, {'id': 18, 'nam...</td>\n",
       "      <td>NaN</td>\n",
       "      <td>tt0368933</td>\n",
       "      <td>en</td>\n",
       "      <td>The Princess Diaries 2: Royal Engagement</td>\n",
       "      <td>Mia Thermopolis is now a college graduate and ...</td>\n",
       "      <td>8.248895</td>\n",
       "      <td>...</td>\n",
       "      <td>8/6/04</td>\n",
       "      <td>113.0</td>\n",
       "      <td>[{'iso_639_1': 'en', 'name': 'English'}]</td>\n",
       "      <td>Released</td>\n",
       "      <td>It can take a lifetime to find true love; she'...</td>\n",
       "      <td>The Princess Diaries 2: Royal Engagement</td>\n",
       "      <td>[{'id': 2505, 'name': 'coronation'}, {'id': 42...</td>\n",
       "      <td>[{'cast_id': 1, 'character': 'Mia Thermopolis'...</td>\n",
       "      <td>[{'credit_id': '52fe43fe9251416c7502563d', 'de...</td>\n",
       "      <td>95149435</td>\n",
       "    </tr>\n",
       "    <tr>\n",
       "      <th>2</th>\n",
       "      <td>3</td>\n",
       "      <td>NaN</td>\n",
       "      <td>3300000</td>\n",
       "      <td>[{'id': 18, 'name': 'Drama'}]</td>\n",
       "      <td>http://sonyclassics.com/whiplash/</td>\n",
       "      <td>tt2582802</td>\n",
       "      <td>en</td>\n",
       "      <td>Whiplash</td>\n",
       "      <td>Under the direction of a ruthless instructor, ...</td>\n",
       "      <td>64.299990</td>\n",
       "      <td>...</td>\n",
       "      <td>10/10/14</td>\n",
       "      <td>105.0</td>\n",
       "      <td>[{'iso_639_1': 'en', 'name': 'English'}]</td>\n",
       "      <td>Released</td>\n",
       "      <td>The road to greatness can take you to the edge.</td>\n",
       "      <td>Whiplash</td>\n",
       "      <td>[{'id': 1416, 'name': 'jazz'}, {'id': 1523, 'n...</td>\n",
       "      <td>[{'cast_id': 5, 'character': 'Andrew Neimann',...</td>\n",
       "      <td>[{'credit_id': '54d5356ec3a3683ba0000039', 'de...</td>\n",
       "      <td>13092000</td>\n",
       "    </tr>\n",
       "    <tr>\n",
       "      <th>3</th>\n",
       "      <td>4</td>\n",
       "      <td>NaN</td>\n",
       "      <td>1200000</td>\n",
       "      <td>[{'id': 53, 'name': 'Thriller'}, {'id': 18, 'n...</td>\n",
       "      <td>http://kahaanithefilm.com/</td>\n",
       "      <td>tt1821480</td>\n",
       "      <td>hi</td>\n",
       "      <td>Kahaani</td>\n",
       "      <td>Vidya Bagchi (Vidya Balan) arrives in Kolkata ...</td>\n",
       "      <td>3.174936</td>\n",
       "      <td>...</td>\n",
       "      <td>3/9/12</td>\n",
       "      <td>122.0</td>\n",
       "      <td>[{'iso_639_1': 'en', 'name': 'English'}, {'iso...</td>\n",
       "      <td>Released</td>\n",
       "      <td>NaN</td>\n",
       "      <td>Kahaani</td>\n",
       "      <td>[{'id': 10092, 'name': 'mystery'}, {'id': 1054...</td>\n",
       "      <td>[{'cast_id': 1, 'character': 'Vidya Bagchi', '...</td>\n",
       "      <td>[{'credit_id': '52fe48779251416c9108d6eb', 'de...</td>\n",
       "      <td>16000000</td>\n",
       "    </tr>\n",
       "    <tr>\n",
       "      <th>4</th>\n",
       "      <td>5</td>\n",
       "      <td>NaN</td>\n",
       "      <td>0</td>\n",
       "      <td>[{'id': 28, 'name': 'Action'}, {'id': 53, 'nam...</td>\n",
       "      <td>NaN</td>\n",
       "      <td>tt1380152</td>\n",
       "      <td>ko</td>\n",
       "      <td>마린보이</td>\n",
       "      <td>Marine Boy is the story of a former national s...</td>\n",
       "      <td>1.148070</td>\n",
       "      <td>...</td>\n",
       "      <td>2/5/09</td>\n",
       "      <td>118.0</td>\n",
       "      <td>[{'iso_639_1': 'ko', 'name': '한국어/조선말'}]</td>\n",
       "      <td>Released</td>\n",
       "      <td>NaN</td>\n",
       "      <td>Marine Boy</td>\n",
       "      <td>NaN</td>\n",
       "      <td>[{'cast_id': 3, 'character': 'Chun-soo', 'cred...</td>\n",
       "      <td>[{'credit_id': '52fe464b9251416c75073b43', 'de...</td>\n",
       "      <td>3923970</td>\n",
       "    </tr>\n",
       "  </tbody>\n",
       "</table>\n",
       "<p>5 rows × 23 columns</p>\n",
       "</div>"
      ],
      "text/plain": [
       "   id                              belongs_to_collection    budget  \\\n",
       "0   1  [{'id': 313576, 'name': 'Hot Tub Time Machine ...  14000000   \n",
       "1   2  [{'id': 107674, 'name': 'The Princess Diaries ...  40000000   \n",
       "2   3                                                NaN   3300000   \n",
       "3   4                                                NaN   1200000   \n",
       "4   5                                                NaN         0   \n",
       "\n",
       "                                              genres  \\\n",
       "0                     [{'id': 35, 'name': 'Comedy'}]   \n",
       "1  [{'id': 35, 'name': 'Comedy'}, {'id': 18, 'nam...   \n",
       "2                      [{'id': 18, 'name': 'Drama'}]   \n",
       "3  [{'id': 53, 'name': 'Thriller'}, {'id': 18, 'n...   \n",
       "4  [{'id': 28, 'name': 'Action'}, {'id': 53, 'nam...   \n",
       "\n",
       "                            homepage    imdb_id original_language  \\\n",
       "0                                NaN  tt2637294                en   \n",
       "1                                NaN  tt0368933                en   \n",
       "2  http://sonyclassics.com/whiplash/  tt2582802                en   \n",
       "3         http://kahaanithefilm.com/  tt1821480                hi   \n",
       "4                                NaN  tt1380152                ko   \n",
       "\n",
       "                             original_title  \\\n",
       "0                    Hot Tub Time Machine 2   \n",
       "1  The Princess Diaries 2: Royal Engagement   \n",
       "2                                  Whiplash   \n",
       "3                                   Kahaani   \n",
       "4                                      마린보이   \n",
       "\n",
       "                                            overview  popularity  ...  \\\n",
       "0  When Lou, who has become the \"father of the In...    6.575393  ...   \n",
       "1  Mia Thermopolis is now a college graduate and ...    8.248895  ...   \n",
       "2  Under the direction of a ruthless instructor, ...   64.299990  ...   \n",
       "3  Vidya Bagchi (Vidya Balan) arrives in Kolkata ...    3.174936  ...   \n",
       "4  Marine Boy is the story of a former national s...    1.148070  ...   \n",
       "\n",
       "  release_date runtime                                   spoken_languages  \\\n",
       "0      2/20/15    93.0           [{'iso_639_1': 'en', 'name': 'English'}]   \n",
       "1       8/6/04   113.0           [{'iso_639_1': 'en', 'name': 'English'}]   \n",
       "2     10/10/14   105.0           [{'iso_639_1': 'en', 'name': 'English'}]   \n",
       "3       3/9/12   122.0  [{'iso_639_1': 'en', 'name': 'English'}, {'iso...   \n",
       "4       2/5/09   118.0           [{'iso_639_1': 'ko', 'name': '한국어/조선말'}]   \n",
       "\n",
       "     status                                            tagline  \\\n",
       "0  Released  The Laws of Space and Time are About to be Vio...   \n",
       "1  Released  It can take a lifetime to find true love; she'...   \n",
       "2  Released    The road to greatness can take you to the edge.   \n",
       "3  Released                                                NaN   \n",
       "4  Released                                                NaN   \n",
       "\n",
       "                                      title  \\\n",
       "0                    Hot Tub Time Machine 2   \n",
       "1  The Princess Diaries 2: Royal Engagement   \n",
       "2                                  Whiplash   \n",
       "3                                   Kahaani   \n",
       "4                                Marine Boy   \n",
       "\n",
       "                                            Keywords  \\\n",
       "0  [{'id': 4379, 'name': 'time travel'}, {'id': 9...   \n",
       "1  [{'id': 2505, 'name': 'coronation'}, {'id': 42...   \n",
       "2  [{'id': 1416, 'name': 'jazz'}, {'id': 1523, 'n...   \n",
       "3  [{'id': 10092, 'name': 'mystery'}, {'id': 1054...   \n",
       "4                                                NaN   \n",
       "\n",
       "                                                cast  \\\n",
       "0  [{'cast_id': 4, 'character': 'Lou', 'credit_id...   \n",
       "1  [{'cast_id': 1, 'character': 'Mia Thermopolis'...   \n",
       "2  [{'cast_id': 5, 'character': 'Andrew Neimann',...   \n",
       "3  [{'cast_id': 1, 'character': 'Vidya Bagchi', '...   \n",
       "4  [{'cast_id': 3, 'character': 'Chun-soo', 'cred...   \n",
       "\n",
       "                                                crew   revenue  \n",
       "0  [{'credit_id': '59ac067c92514107af02c8c8', 'de...  12314651  \n",
       "1  [{'credit_id': '52fe43fe9251416c7502563d', 'de...  95149435  \n",
       "2  [{'credit_id': '54d5356ec3a3683ba0000039', 'de...  13092000  \n",
       "3  [{'credit_id': '52fe48779251416c9108d6eb', 'de...  16000000  \n",
       "4  [{'credit_id': '52fe464b9251416c75073b43', 'de...   3923970  \n",
       "\n",
       "[5 rows x 23 columns]"
      ]
     },
     "execution_count": 2,
     "metadata": {},
     "output_type": "execute_result"
    }
   ],
   "source": [
    "d = pd.read_csv('data/train.csv')\n",
    "d.head()"
   ]
  },
  {
   "cell_type": "code",
   "execution_count": 3,
   "metadata": {},
   "outputs": [
    {
     "data": {
      "text/plain": [
       "'Columns are: id, belongs_to_collection, budget, genres, homepage, imdb_id, original_language, original_title, overview, popularity, poster_path, production_companies, production_countries, release_date, runtime, spoken_languages, status, tagline, title, Keywords, cast, crew, revenue'"
      ]
     },
     "execution_count": 3,
     "metadata": {},
     "output_type": "execute_result"
    }
   ],
   "source": [
    "'Columns are: ' + ', '.join(d.columns.values)"
   ]
  },
  {
   "cell_type": "markdown",
   "metadata": {},
   "source": [
    "Below is a short description of the features of our data:\n",
    "* __Id__: counter starting at 1\n",
    "* __belongs_to_collection__ : list of collections the title belongs to.'NA' if they do not belong\n",
    "* __budget__ : budget of the title, some are 0 which seems to be missing data\n",
    "* __genres__: list of genres the title belongs to. 'NA' if unclassified\n",
    "* __homepage__: webadress for the title if it exists\n",
    "* __imdb_id__: id of the movie in the imdb.\n",
    "* __original_language__: 2 leter code of the original language of the movie\n",
    "* __original_title__: title of the movie in the original.\n",
    "* __overview__ : short description of the title \n",
    "* __popularity__ : some kind of popularity score\n",
    "* __poster_path__ : image of the poster\n",
    "* __production_companies__: list of production companies involved\n",
    "* __production_countries__: list of production countries involved\n",
    "* __release_data__ : release date as string in format mm/dd/yy\n",
    "* __runtime__ : length of the movie in minutes\n",
    "* __spoken_languages__: list of languange codes spoken in the film\n",
    "* __status__: either released or rumored. Only four rumored. Seems to be an useless field.\n",
    "* __tagline__: line under the title. if available\n",
    "* __title__: name of the film\n",
    "* __cast__: list of dictionaries containing, characters name, gender, order and actors name.\n",
    "* __crew__: list of dictionaries containing information about the films crew.\n",
    "* __revenue__: revenue of the films. I will assume it is normalized for inflation?"
   ]
  },
  {
   "cell_type": "markdown",
   "metadata": {},
   "source": [
    "Many of the features are lists or dictionaries transformed into strings. I will parse to extract the relevant information from belongs_to_collection, genres, production_companies, production_countries, spoken_languages, Keywords, cast and crew."
   ]
  },
  {
   "cell_type": "code",
   "execution_count": 4,
   "metadata": {},
   "outputs": [],
   "source": [
    "def parse_listdict_columns(data, column, key='name', fillna=False, na_value = 'NA', replace=True):\n",
    "    new_column_name = '{}_{}'.format(column, key)\n",
    "    data[new_column_name] = data[column].map(literal_eval, na_action='ignore')\n",
    "    data[new_column_name] = data[new_column_name].map(lambda l: [i[key] for i in l], na_action='ignore')\n",
    "    if fillna:\n",
    "        data[new_column_name].fillna(value=na_value, inplace=True)\n",
    "    if replace:\n",
    "        data[column] = data[new_column_name]\n",
    "        data.drop(new_column_name, axis='columns', inplace=True)\n",
    "    return"
   ]
  },
  {
   "cell_type": "code",
   "execution_count": 5,
   "metadata": {},
   "outputs": [],
   "source": [
    "parse_listdict_columns(d, 'belongs_to_collection', fillna=True, na_value='No collection')\n",
    "parse_listdict_columns(d, 'genres')\n",
    "parse_listdict_columns(d, 'production_companies')\n",
    "parse_listdict_columns(d, 'production_countries', key='iso_3166_1')\n",
    "parse_listdict_columns(d, 'spoken_languages', key='iso_639_1')\n",
    "parse_listdict_columns(d, 'Keywords')\n",
    "parse_listdict_columns(d, 'cast', key='gender', replace=False)\n",
    "parse_listdict_columns(d, 'cast', key='name', replace=False)\n",
    "parse_listdict_columns(d, 'crew', key='department', replace=False)\n",
    "parse_listdict_columns(d, 'crew', key='gender', replace=False)\n",
    "parse_listdict_columns(d, 'crew', key='id', replace=False)\n",
    "parse_listdict_columns(d, 'crew', key='job', replace=False)\n",
    "parse_listdict_columns(d, 'crew', key='name', replace=False)"
   ]
  },
  {
   "cell_type": "markdown",
   "metadata": {},
   "source": [
    "We will now look at the NaN's of our data and either drop them or impute them"
   ]
  },
  {
   "cell_type": "code",
   "execution_count": 6,
   "metadata": {},
   "outputs": [],
   "source": [
    "def display_nans(data):\n",
    "    nans_per_col = data.isnull().sum()\n",
    "    nans_per_row = data.isnull().sum(axis=1)\n",
    "    fig, [ax_col,ax_row] = plt.subplots(1,2, figsize=(16,6))\n",
    "    nans_per_col[nans_per_col>0].plot.barh(ax=ax_col)\n",
    "    nans_per_row.hist(bins=np.arange(0,20,1), ax=ax_row)"
   ]
  },
  {
   "cell_type": "code",
   "execution_count": 7,
   "metadata": {},
   "outputs": [
    {
     "data": {
      "image/png": "[encoded data removed]",
      "text/plain": [
       "<Figure size 1152x432 with 2 Axes>"
      ]
     },
     "metadata": {
      "needs_background": "light"
     },
     "output_type": "display_data"
    }
   ],
   "source": [
    "display_nans(d)"
   ]
  },
  {
   "cell_type": "markdown",
   "metadata": {},
   "source": [
    "Let's start by the most obvious issues: \n",
    "* homepage is irrelevant since NaNs are missing information (e.g. minority report is missing). There are many homepages missing (more than half) so I will drop this feature.\n",
    "* belongs to collection has already been imputed with \"No collection\" \n",
    "* It is perfectly ok to not have a tagline. It could be that is missing but I will assume that NaNs symbolise that the title has to tagline\n"
   ]
  },
  {
   "cell_type": "code",
   "execution_count": 8,
   "metadata": {},
   "outputs": [],
   "source": [
    "d.drop('homepage', axis='columns', inplace=True)\n",
    "d.tagline.fillna('', inplace=True)"
   ]
  },
  {
   "cell_type": "code",
   "execution_count": 9,
   "metadata": {},
   "outputs": [
    {
     "data": {
      "image/png": "[encoded data removed]",
      "text/plain": [
       "<Figure size 1152x432 with 2 Axes>"
      ]
     },
     "metadata": {
      "needs_background": "light"
     },
     "output_type": "display_data"
    }
   ],
   "source": [
    "display_nans(d)"
   ]
  },
  {
   "cell_type": "markdown",
   "metadata": {},
   "source": [
    "Many key words are missing, and it seems a very interesting feature to have. I will try to impute the missing values with information from the overview. I'll create a bag of words of all the keywords used and check for them in the overviews. I'll assume that the keywords that exist are more accurate that the imputed ones, so I will keep them and only impute on NaNs."
   ]
  },
  {
   "cell_type": "code",
   "execution_count": 10,
   "metadata": {},
   "outputs": [],
   "source": [
    "keywords = set({})\n",
    "for keys in d.Keywords.dropna():\n",
    "    keys = [key.lower() for key in keys]\n",
    "    keywords = keywords.union(set(keys))\n"
   ]
  },
  {
   "cell_type": "code",
   "execution_count": 11,
   "metadata": {},
   "outputs": [],
   "source": [
    "def get_keywords(text, possible_keywords):\n",
    "    words = word_tokenize(text)\n",
    "    words = set([word.lower() for word in words])\n",
    "    return list(words & possible_keywords)"
   ]
  },
  {
   "cell_type": "code",
   "execution_count": 15,
   "metadata": {},
   "outputs": [],
   "source": [
    "d['created_keywords'] = d.overview.map(lambda text: get_keywords(text, keywords), na_action='ignore')\n",
    "d.Keywords.fillna(d.created_keywords, inplace=True)\n",
    "d.drop('created_keywords', axis=1, inplace=True)"
   ]
  },
  {
   "cell_type": "code",
   "execution_count": 16,
   "metadata": {},
   "outputs": [
    {
     "data": {
      "image/png": "[encoded data removed]",
      "text/plain": [
       "<Figure size 1152x432 with 2 Axes>"
      ]
     },
     "metadata": {
      "needs_background": "light"
     },
     "output_type": "display_data"
    }
   ],
   "source": [
    "display_nans(d)"
   ]
  },
  {
   "cell_type": "markdown",
   "metadata": {},
   "source": [
    "We are down to 160 missing values on our top feature in missing values. Using IMDBAPI free key (only 2000 daily requests) I will download data for the missing features"
   ]
  },
  {
   "cell_type": "markdown",
   "metadata": {},
   "source": [
    "missing_info = {}\n",
    "for imdb_id in d[d.isnull().sum(axis=1) > 0].imdb_id:\n",
    "    url = 'http://www.omdbapi.com/?i={}&plot=full&apikey=c3551bb2'.format(imdb_id)\n",
    "    r = requests.get(url)\n",
    "    missing_info[imdb_id] = r.json()"
   ]
  },
  {
   "cell_type": "markdown",
   "metadata": {},
   "source": [
    "with open('data/missing_data.json', 'w') as fp:\n",
    "    json.dump(missing_info, fp)"
   ]
  },
  {
   "cell_type": "code",
   "execution_count": 63,
   "metadata": {},
   "outputs": [
    {
     "name": "stdout",
     "output_type": "stream",
     "text": [
      "failed to impute overview for movie tt2550838\n",
      "failed to impute Keywords for movie tt2550838\n",
      "failed to impute crew for movie tt0349159\n",
      "failed to impute crew_department for movie tt0349159\n",
      "failed to impute crew_gender for movie tt0349159\n",
      "failed to impute crew_id for movie tt0349159\n",
      "failed to impute crew_job for movie tt0349159\n",
      "failed to impute crew_name for movie tt0349159\n",
      "failed to impute crew for movie tt0451279\n",
      "failed to impute cast_gender for movie tt0451279\n",
      "failed to impute cast_name for movie tt0451279\n",
      "failed to impute crew_department for movie tt0451279\n",
      "failed to impute crew_gender for movie tt0451279\n",
      "failed to impute crew_id for movie tt0451279\n",
      "failed to impute crew_job for movie tt0451279\n",
      "failed to impute crew_name for movie tt0451279\n",
      "failed to impute overview for movie tt0768690\n",
      "failed to impute crew for movie tt0319262\n",
      "failed to impute cast_gender for movie tt0319262\n",
      "failed to impute cast_name for movie tt0319262\n",
      "failed to impute crew_department for movie tt0319262\n",
      "failed to impute crew_gender for movie tt0319262\n",
      "failed to impute crew_id for movie tt0319262\n",
      "failed to impute crew_job for movie tt0319262\n",
      "failed to impute crew_name for movie tt0319262\n",
      "failed to impute crew for movie tt1345836\n",
      "failed to impute cast_gender for movie tt1345836\n",
      "failed to impute cast_name for movie tt1345836\n",
      "failed to impute crew_department for movie tt1345836\n",
      "failed to impute crew_gender for movie tt1345836\n",
      "failed to impute crew_id for movie tt1345836\n",
      "failed to impute crew_job for movie tt1345836\n",
      "failed to impute crew_name for movie tt1345836\n",
      "failed to impute crew for movie tt4425200\n",
      "failed to impute cast_gender for movie tt4425200\n",
      "failed to impute cast_name for movie tt4425200\n",
      "failed to impute crew_department for movie tt4425200\n",
      "failed to impute crew_gender for movie tt4425200\n",
      "failed to impute crew_id for movie tt4425200\n",
      "failed to impute crew_job for movie tt4425200\n",
      "failed to impute crew_name for movie tt4425200\n",
      "failed to impute overview for movie tt2076251\n",
      "failed to impute Keywords for movie tt2076251\n",
      "failed to impute crew for movie tt0031679\n",
      "failed to impute cast_gender for movie tt0031679\n",
      "failed to impute cast_name for movie tt0031679\n",
      "failed to impute crew_department for movie tt0031679\n",
      "failed to impute crew_gender for movie tt0031679\n",
      "failed to impute crew_id for movie tt0031679\n",
      "failed to impute crew_job for movie tt0031679\n",
      "failed to impute crew_name for movie tt0031679\n",
      "failed to impute overview for movie tt1107828\n",
      "failed to impute Keywords for movie tt1107828\n",
      "failed to impute overview for movie tt3805180\n",
      "failed to impute crew for movie tt0364961\n",
      "failed to impute cast_gender for movie tt0364961\n",
      "failed to impute cast_name for movie tt0364961\n",
      "failed to impute crew_department for movie tt0364961\n",
      "failed to impute crew_gender for movie tt0364961\n",
      "failed to impute crew_id for movie tt0364961\n",
      "failed to impute crew_job for movie tt0364961\n",
      "failed to impute crew_name for movie tt0364961\n",
      "failed to impute crew for movie tt3315342\n",
      "failed to impute cast_gender for movie tt3315342\n",
      "failed to impute cast_name for movie tt3315342\n",
      "failed to impute crew_department for movie tt3315342\n",
      "failed to impute crew_gender for movie tt3315342\n",
      "failed to impute crew_id for movie tt3315342\n",
      "failed to impute crew_job for movie tt3315342\n",
      "failed to impute crew_name for movie tt3315342\n",
      "failed to impute crew for movie tt0993846\n",
      "failed to impute cast_gender for movie tt0993846\n",
      "failed to impute cast_name for movie tt0993846\n",
      "failed to impute crew_department for movie tt0993846\n",
      "failed to impute crew_gender for movie tt0993846\n",
      "failed to impute crew_id for movie tt0993846\n",
      "failed to impute crew_job for movie tt0993846\n",
      "failed to impute crew_name for movie tt0993846\n",
      "failed to impute overview for movie tt0477337\n",
      "failed to impute Keywords for movie tt0477337\n",
      "failed to impute overview for movie tt0116485\n",
      "failed to impute poster_path for movie tt0116485\n",
      "failed to impute crew for movie tt0116485\n",
      "failed to impute crew_department for movie tt0116485\n",
      "failed to impute crew_gender for movie tt0116485\n",
      "failed to impute crew_id for movie tt0116485\n",
      "failed to impute crew_job for movie tt0116485\n",
      "failed to impute crew_name for movie tt0116485\n",
      "failed to impute crew for movie tt0266078\n",
      "failed to impute crew_department for movie tt0266078\n",
      "failed to impute crew_gender for movie tt0266078\n",
      "failed to impute crew_id for movie tt0266078\n",
      "failed to impute crew_job for movie tt0266078\n",
      "failed to impute crew_name for movie tt0266078\n",
      "failed to impute crew for movie tt0179626\n",
      "failed to impute cast_gender for movie tt0179626\n",
      "failed to impute cast_name for movie tt0179626\n",
      "failed to impute crew_department for movie tt0179626\n",
      "failed to impute crew_gender for movie tt0179626\n",
      "failed to impute crew_id for movie tt0179626\n",
      "failed to impute crew_job for movie tt0179626\n",
      "failed to impute crew_name for movie tt0179626\n",
      "failed to impute crew for movie tt0960144\n",
      "failed to impute cast_gender for movie tt0960144\n",
      "failed to impute cast_name for movie tt0960144\n",
      "failed to impute crew_department for movie tt0960144\n",
      "failed to impute crew_gender for movie tt0960144\n",
      "failed to impute crew_id for movie tt0960144\n",
      "failed to impute crew_job for movie tt0960144\n",
      "failed to impute crew_name for movie tt0960144\n",
      "failed to impute crew for movie tt2239822\n",
      "failed to impute cast_gender for movie tt2239822\n",
      "failed to impute cast_name for movie tt2239822\n",
      "failed to impute crew_department for movie tt2239822\n",
      "failed to impute crew_gender for movie tt2239822\n",
      "failed to impute crew_id for movie tt2239822\n",
      "failed to impute crew_job for movie tt2239822\n",
      "failed to impute crew_name for movie tt2239822\n",
      "failed to impute overview for movie tt2456720\n",
      "failed to impute crew for movie tt0443701\n",
      "failed to impute cast_gender for movie tt0443701\n",
      "failed to impute cast_name for movie tt0443701\n",
      "failed to impute crew_department for movie tt0443701\n",
      "failed to impute crew_gender for movie tt0443701\n",
      "failed to impute crew_id for movie tt0443701\n",
      "failed to impute crew_job for movie tt0443701\n",
      "failed to impute crew_name for movie tt0443701\n",
      "failed to impute crew for movie tt1707386\n",
      "failed to impute cast_gender for movie tt1707386\n",
      "failed to impute cast_name for movie tt1707386\n",
      "failed to impute crew_department for movie tt1707386\n",
      "failed to impute crew_gender for movie tt1707386\n",
      "failed to impute crew_id for movie tt1707386\n",
      "failed to impute crew_job for movie tt1707386\n",
      "failed to impute crew_name for movie tt1707386\n"
     ]
    }
   ],
   "source": [
    "tmdb_info = {'production_companies' : 'Production', 'overview':'plot', 'genres': 'Genre',\n",
    "             'production_countries': 'Country', 'spoken_languages': 'Language', 'runtime': 'Runtime',\n",
    "             'cast': 'Actors', }\n",
    "for film in d[d.isnull().sum(axis=1) > 0].iterrows():\n",
    "    idx = film[0]\n",
    "    film = film[1]\n",
    "    imdb_id = film['imdb_id']\n",
    "    info = missing_info[imdb_id]\n",
    "    for missing_feature in film[film.isnull()].index:\n",
    "        try:\n",
    "            d.loc[idx, missing_feature] = info[tmdb_info[missing_feature]]\n",
    "        except:\n",
    "            print('failed to impute {} for movie {}'.format(missing_feature, imdb_id))"
   ]
  },
  {
   "cell_type": "code",
   "execution_count": 64,
   "metadata": {},
   "outputs": [
    {
     "data": {
      "image/png": "[encoded data removed]",
      "text/plain": [
       "<Figure size 1152x432 with 2 Axes>"
      ]
     },
     "metadata": {
      "needs_background": "light"
     },
     "output_type": "display_data"
    }
   ],
   "source": [
    "display_nans(d)"
   ]
  },
  {
   "cell_type": "code",
   "execution_count": 62,
   "metadata": {},
   "outputs": [
    {
     "name": "stdout",
     "output_type": "stream",
     "text": [
      "production_companies\n"
     ]
    }
   ],
   "source": [
    "imdb_id = er['imdb_id']\n",
    "info = missing_info[imdb_id]\n",
    "for mf in er[er.isnull()].index:\n",
    "    print(mf)"
   ]
  },
  {
   "cell_type": "code",
   "execution_count": 68,
   "metadata": {},
   "outputs": [
    {
     "data": {
      "text/plain": [
       "(23, 29)"
      ]
     },
     "execution_count": 68,
     "metadata": {},
     "output_type": "execute_result"
    }
   ],
   "source": [
    "d[d.isnull().sum(axis=1) > 0].shape"
   ]
  },
  {
   "cell_type": "code",
   "execution_count": 70,
   "metadata": {},
   "outputs": [],
   "source": [
    "d.dropna(inplace=True)"
   ]
  },
  {
   "cell_type": "code",
   "execution_count": 73,
   "metadata": {},
   "outputs": [
    {
     "data": {
      "text/plain": [
       "0"
      ]
     },
     "execution_count": 73,
     "metadata": {},
     "output_type": "execute_result"
    }
   ],
   "source": [
    "d.isnull().sum().sum()"
   ]
  },
  {
   "cell_type": "code",
   "execution_count": 74,
   "metadata": {},
   "outputs": [
    {
     "data": {
      "text/plain": [
       "(2977, 29)"
      ]
     },
     "execution_count": 74,
     "metadata": {},
     "output_type": "execute_result"
    }
   ],
   "source": [
    "d.shape"
   ]
  },
  {
   "cell_type": "code",
   "execution_count": null,
   "metadata": {},
   "outputs": [],
   "source": []
  }
 ],
 "metadata": {
  "kernelspec": {
   "display_name": "Python [conda env:tbdm] *",
   "language": "python",
   "name": "conda-env-tbdm-py"
  },
  "language_info": {
   "codemirror_mode": {
    "name": "ipython",
    "version": 3
   },
   "file_extension": ".py",
   "mimetype": "text/x-python",
   "name": "python",
   "nbconvert_exporter": "python",
   "pygments_lexer": "ipython3",
   "version": "3.7.3"
  }
 },
 "nbformat": 4,
 "nbformat_minor": 2
}
